{
  "nbformat": 4,
  "nbformat_minor": 0,
  "metadata": {
    "kernelspec": {
      "display_name": "Python 3",
      "language": "python",
      "name": "python3"
    },
    "language_info": {
      "codemirror_mode": {
        "name": "ipython",
        "version": 3
      },
      "file_extension": ".py",
      "mimetype": "text/x-python",
      "name": "python",
      "nbconvert_exporter": "python",
      "pygments_lexer": "ipython3",
      "version": "3.7.4"
    },
    "colab": {
      "provenance": [],
      "include_colab_link": true
    }
  },
  "cells": [
    {
      "cell_type": "markdown",
      "metadata": {
        "id": "view-in-github",
        "colab_type": "text"
      },
      "source": [
        "<a href=\"https://colab.research.google.com/github/Faheemfemu/Python-For-Data-Science-Assignments/blob/main/Copy_of_Assignment_Integers%2C_Floats_%26_Booleans.ipynb\" target=\"_parent\"><img src=\"https://colab.research.google.com/assets/colab-badge.svg\" alt=\"Open In Colab\"/></a>"
      ]
    },
    {
      "cell_type": "markdown",
      "metadata": {
        "id": "JRdjdmztDelX"
      },
      "source": [
        "## <u>While doing this assignment only use those concepts which have been taught till now</u>"
      ]
    },
    {
      "cell_type": "markdown",
      "metadata": {
        "id": "8ECk3jeWDelY"
      },
      "source": [
        "## <u>Problem 1</u>\n",
        "\n",
        "In a cricket tournament, based on the outcome of a particular match a team gets following points:\n",
        "* <code>wins</code> gets <code>3</code> points\n",
        "* <code>draws</code> gets <code>1</code> points\n",
        "* <code>losses</code> gets <code>0</code> points\n",
        "\n",
        "Team Aravali plays <code>8</code> matches in this tournament. It wins <code>4</code> matches, loses <code>3</code> matches and draws <code>1</code>. What is the total number of points gained by the Team Aravali?"
      ]
    },
    {
      "cell_type": "code",
      "metadata": {
        "id": "m68YV3OhDelZ"
      },
      "source": [
        "# The outcome variables are defined below\n",
        "wins = 4\n",
        "losses = 3\n",
        "draws = 1"
      ],
      "execution_count": null,
      "outputs": []
    },
    {
      "cell_type": "code",
      "metadata": {
        "id": "2cnTsWvODelc"
      },
      "source": [
        "# Calculate the total points gained by Team Aravali\n",
        "aravali_points = wins*3 + losses*0 + draws*1"
      ],
      "execution_count": null,
      "outputs": []
    },
    {
      "cell_type": "code",
      "metadata": {
        "id": "4ccas7cPDelf",
        "outputId": "892fb5f5-491f-4ea8-d041-5bfc091a6971",
        "colab": {
          "base_uri": "https://localhost:8080/"
        }
      },
      "source": [
        "# Print the variable aravali_points\n",
        "aravali_points"
      ],
      "execution_count": null,
      "outputs": [
        {
          "output_type": "execute_result",
          "data": {
            "text/plain": [
              "13"
            ]
          },
          "metadata": {},
          "execution_count": 3
        }
      ]
    },
    {
      "cell_type": "markdown",
      "metadata": {
        "id": "-ioInfYKDelh"
      },
      "source": [
        "## <u>Problem 2 </u>\n",
        "\n",
        "* Root of a function $f(x)$ is defined as the value $x$ where $f(x)=0$ \n",
        "* Consider a quadratic function $ f(x) = x^2 + 3x - 4$\n",
        "\n",
        "### Find the value of the function $f(x)$ at points   $x=2,x=-1, x=1$."
      ]
    },
    {
      "cell_type": "code",
      "metadata": {
        "id": "4_HZwes5Delh"
      },
      "source": [
        "# Calculate the value of the function f(x) at x = 2\n",
        "func_evaluated_at_2 = 2**2 + 3*2 - 4"
      ],
      "execution_count": null,
      "outputs": []
    },
    {
      "cell_type": "code",
      "metadata": {
        "id": "zBkLIXk2Dell",
        "outputId": "deb5c2a6-75f5-4bc9-beab-24e0ba0fd188",
        "colab": {
          "base_uri": "https://localhost:8080/"
        }
      },
      "source": [
        "# Print the value below\n",
        "func_evaluated_at_2 \n"
      ],
      "execution_count": null,
      "outputs": [
        {
          "output_type": "execute_result",
          "data": {
            "text/plain": [
              "6"
            ]
          },
          "metadata": {},
          "execution_count": 4
        }
      ]
    },
    {
      "cell_type": "code",
      "metadata": {
        "id": "uD4MAyKIDelo"
      },
      "source": [
        "# Calculate the value of the function f(x) at x = -1\n",
        "func_evaluated_at_minus1 = (-1)**2 + 3*(-1) - 4"
      ],
      "execution_count": null,
      "outputs": []
    },
    {
      "cell_type": "code",
      "metadata": {
        "id": "Jx9WVMQ2Delq",
        "outputId": "6717ea98-371b-4c64-a9a9-98fb14e8b59c",
        "colab": {
          "base_uri": "https://localhost:8080/"
        }
      },
      "source": [
        "# Print the value below\n",
        "func_evaluated_at_minus1 "
      ],
      "execution_count": null,
      "outputs": [
        {
          "output_type": "execute_result",
          "data": {
            "text/plain": [
              "-6"
            ]
          },
          "metadata": {},
          "execution_count": 6
        }
      ]
    },
    {
      "cell_type": "code",
      "metadata": {
        "id": "h8PgF85VDelu"
      },
      "source": [
        "# Calculate the value of the function f(x) at x = 1\n",
        "func_evaluated_at_1 = 1**2 + 3*1 - 4"
      ],
      "execution_count": null,
      "outputs": []
    },
    {
      "cell_type": "code",
      "metadata": {
        "id": "BdrFgug6Delw",
        "outputId": "92476a79-bd3a-4710-d2b1-081e9e27045c",
        "colab": {
          "base_uri": "https://localhost:8080/"
        }
      },
      "source": [
        "# Print the type of the variable below\n",
        "type(func_evaluated_at_1)"
      ],
      "execution_count": null,
      "outputs": [
        {
          "output_type": "execute_result",
          "data": {
            "text/plain": [
              "int"
            ]
          },
          "metadata": {},
          "execution_count": 8
        }
      ]
    },
    {
      "cell_type": "markdown",
      "metadata": {
        "id": "EvldlcwqDelz"
      },
      "source": [
        "### Return the boolean for each value of $x$ to find out whether that value is a root of $f(x)$"
      ]
    },
    {
      "cell_type": "code",
      "metadata": {
        "id": "-tUSAgzgDel0",
        "outputId": "bfae1ccd-1849-4174-f4cb-5a53a0d26698",
        "colab": {
          "base_uri": "https://localhost:8080/"
        }
      },
      "source": [
        "# Check whether 2 is a root of f(x)\n",
        "func_evaluated_at_2 == 0"
      ],
      "execution_count": null,
      "outputs": [
        {
          "output_type": "execute_result",
          "data": {
            "text/plain": [
              "False"
            ]
          },
          "metadata": {},
          "execution_count": 9
        }
      ]
    },
    {
      "cell_type": "code",
      "metadata": {
        "id": "gsNS4Ki4Del2",
        "outputId": "8f128fdd-1717-4d86-c0d7-d54c1cdc293d",
        "colab": {
          "base_uri": "https://localhost:8080/"
        }
      },
      "source": [
        "# Check whether -1 is a root of f(x)\n",
        "func_evaluated_at_minus1 == 0"
      ],
      "execution_count": null,
      "outputs": [
        {
          "output_type": "execute_result",
          "data": {
            "text/plain": [
              "False"
            ]
          },
          "metadata": {},
          "execution_count": 11
        }
      ]
    },
    {
      "cell_type": "code",
      "metadata": {
        "id": "yExDY-ZXDel4",
        "outputId": "1d54bcf0-5041-45fa-ee2c-1a828a7a26cc",
        "colab": {
          "base_uri": "https://localhost:8080/"
        }
      },
      "source": [
        "# Check whether 1 is a root of f(x)\n",
        "func_evaluated_at_1 == 0"
      ],
      "execution_count": null,
      "outputs": [
        {
          "output_type": "execute_result",
          "data": {
            "text/plain": [
              "True"
            ]
          },
          "metadata": {},
          "execution_count": 12
        }
      ]
    },
    {
      "cell_type": "markdown",
      "metadata": {
        "id": "tNAI2AHRDel6"
      },
      "source": [
        "## <u> Problem 3 </u>\n",
        "\n",
        "A bag contains <code>45</code> apples, <code>65</code> oranges and <code>30</code> bananas. Find the percentage of each type of food items in the bag."
      ]
    },
    {
      "cell_type": "code",
      "metadata": {
        "id": "XJ9Rq4P3Del7",
        "outputId": "80be1e7b-5e4f-4766-be83-4ce0c093094b",
        "colab": {
          "base_uri": "https://localhost:8080/"
        }
      },
      "source": [
        "# Calculate the percentage of apples and print the variable\n",
        "apples = 45\n",
        "oranges = 65\n",
        "bananas = 30\n",
        "total_fruits = apples + oranges + bananas\n",
        "percentage_of_apples = (apples / total_fruits) * 100\n",
        "print(percentage_of_apples)\n",
        "\n",
        "\n"
      ],
      "execution_count": null,
      "outputs": [
        {
          "output_type": "stream",
          "name": "stdout",
          "text": [
            "32.142857142857146\n"
          ]
        }
      ]
    },
    {
      "cell_type": "code",
      "metadata": {
        "id": "S6lJZtaXDel9",
        "outputId": "15cbe806-9001-4462-84bd-7ee10fc83a68",
        "colab": {
          "base_uri": "https://localhost:8080/"
        }
      },
      "source": [
        "# Calculate the percentage of oranges and print the variable\n",
        "\n",
        "percentage_of_oranges = (oranges / total_fruits) * 100\n",
        "print(percentage_of_oranges)"
      ],
      "execution_count": null,
      "outputs": [
        {
          "output_type": "stream",
          "name": "stdout",
          "text": [
            "46.42857142857143\n"
          ]
        }
      ]
    },
    {
      "cell_type": "code",
      "metadata": {
        "id": "mHzMnSZrDemB",
        "outputId": "a2fda274-e4ef-4ce8-debd-cf67cae5e84b",
        "colab": {
          "base_uri": "https://localhost:8080/"
        }
      },
      "source": [
        "# Calculate the percentage of bananas and print the variable\n",
        "percentage_of_bananas = (bananas / total_fruits) * 100\n",
        "print(percentage_of_bananas)\n"
      ],
      "execution_count": null,
      "outputs": [
        {
          "output_type": "stream",
          "name": "stdout",
          "text": [
            "21.428571428571427\n"
          ]
        }
      ]
    },
    {
      "cell_type": "markdown",
      "metadata": {
        "id": "F44LczfzDemD"
      },
      "source": [
        "## <u>Problem 4</u>\n",
        "\n",
        "You were playing a fun guessing game during your school break. There were a total of 100 participants excluding you. Out of these 100 people, 30 were Maths Majors, 45 were Economics Majors and 25 were Physics Majors.\n",
        "\n",
        "The game was divided into three rounds.\n",
        "\n",
        "* In the first round, you had to guess the number of Maths Majors and you <b>correctly</b> guessed 20 of them.\n",
        "* In the second round, you had to guess the number of Economics Majors and you <b>correctly</b> guessed 30 of them.\n",
        "* In the final third round, you had to guess the number of Physics Majors and you <b>correctly</b> guessed 20 of them.\n",
        "\n",
        "### Accuracy is defined as the number of correct guesses upon total number of people in the group (expressed in percentage)"
      ]
    },
    {
      "cell_type": "markdown",
      "metadata": {
        "id": "lkGEV_zpDemE"
      },
      "source": [
        "* ### Define your variables"
      ]
    },
    {
      "cell_type": "code",
      "metadata": {
        "id": "OfXY9LcVDemF"
      },
      "source": [
        "# Store the number of Maths majors\n",
        "Maths_majors = 30\n",
        "\n",
        "# Store the number of Economics majors\n",
        "Economics_majors = 45\n",
        "\n",
        "# Store the number of Physics majors\n",
        "Physics_majors = 25\n",
        "\n",
        "# Store the number of your correct guesses of Maths majors\n",
        "correct_guesses_of_math_majors = 20\n",
        "\n",
        "# Store the number of your correct guesses of Economics majors\n",
        "correct_guesses_of_economics_majors = 30\n",
        "\n",
        "# Store the number of your correct guesses of Physics majors\n",
        "correct_guesses_of_physics_majors = 20"
      ],
      "execution_count": null,
      "outputs": []
    },
    {
      "cell_type": "markdown",
      "metadata": {
        "id": "Eg_Or6GmDemI"
      },
      "source": [
        "* ### Calculate your accuracy in each of the three rounds"
      ]
    },
    {
      "cell_type": "code",
      "metadata": {
        "id": "QUbDKOR3DemJ",
        "outputId": "203ec712-6e2c-4cde-f8f5-663148f3c66a",
        "colab": {
          "base_uri": "https://localhost:8080/"
        }
      },
      "source": [
        "# Print the Maths accuracy\n",
        "math_accuracy = correct_guesses_of_math_majors/Maths_majors * 100\n",
        "math_accuracy\n"
      ],
      "execution_count": null,
      "outputs": [
        {
          "output_type": "execute_result",
          "data": {
            "text/plain": [
              "66.66666666666666"
            ]
          },
          "metadata": {},
          "execution_count": 17
        }
      ]
    },
    {
      "cell_type": "code",
      "metadata": {
        "id": "PfX4DowhDemM",
        "outputId": "79666ca9-c9d5-4573-e767-b2d1a973dfee",
        "colab": {
          "base_uri": "https://localhost:8080/"
        }
      },
      "source": [
        "# Print the Economics accuracy\n",
        "economic_accurary = correct_guesses_of_economics_majors/Economics_majors * 100\n",
        "economic_accurary\n"
      ],
      "execution_count": null,
      "outputs": [
        {
          "output_type": "execute_result",
          "data": {
            "text/plain": [
              "66.66666666666666"
            ]
          },
          "metadata": {},
          "execution_count": 18
        }
      ]
    },
    {
      "cell_type": "code",
      "metadata": {
        "id": "ZV-hzGKCDemP",
        "outputId": "56dcd674-7b51-430f-8456-6edf1513833b",
        "colab": {
          "base_uri": "https://localhost:8080/"
        }
      },
      "source": [
        "# Print the Physics accuracy\n",
        "phisics_accuracy = correct_guesses_of_physics_majors/Physics_majors * 100\n",
        "phisics_accuracy\n"
      ],
      "execution_count": null,
      "outputs": [
        {
          "output_type": "execute_result",
          "data": {
            "text/plain": [
              "80.0"
            ]
          },
          "metadata": {},
          "execution_count": 19
        }
      ]
    },
    {
      "cell_type": "markdown",
      "metadata": {
        "id": "FvKZonnwDemS"
      },
      "source": [
        "* ### Calculate your overall accuracy in the entire game"
      ]
    },
    {
      "cell_type": "code",
      "metadata": {
        "id": "eP3JkusLDemT",
        "outputId": "c77f3d3d-bde8-40e8-efcc-fd0d4da332c8",
        "colab": {
          "base_uri": "https://localhost:8080/"
        }
      },
      "source": [
        "# Print the overall accuracy\n",
        "\n",
        "overall_accuracy = (correct_guesses_of_math_majors+correct_guesses_of_economics_majors+correct_guesses_of_physics_majors)/(Maths_majors+Economics_majors+Physics_majors) * 100\n",
        "overall_accuracy"
      ],
      "execution_count": null,
      "outputs": [
        {
          "output_type": "execute_result",
          "data": {
            "text/plain": [
              "70.0"
            ]
          },
          "metadata": {},
          "execution_count": 20
        }
      ]
    },
    {
      "cell_type": "code",
      "source": [],
      "metadata": {
        "id": "hsL40Ucfa43V"
      },
      "execution_count": null,
      "outputs": []
    }
  ]
}
