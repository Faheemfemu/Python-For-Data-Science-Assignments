{
  "nbformat": 4,
  "nbformat_minor": 0,
  "metadata": {
    "kernelspec": {
      "display_name": "Python 3",
      "language": "python",
      "name": "python3"
    },
    "language_info": {
      "codemirror_mode": {
        "name": "ipython",
        "version": 3
      },
      "file_extension": ".py",
      "mimetype": "text/x-python",
      "name": "python",
      "nbconvert_exporter": "python",
      "pygments_lexer": "ipython3",
      "version": "3.7.4"
    },
    "colab": {
      "provenance": [],
      "collapsed_sections": [],
      "include_colab_link": true
    }
  },
  "cells": [
    {
      "cell_type": "markdown",
      "metadata": {
        "id": "view-in-github",
        "colab_type": "text"
      },
      "source": [
        "<a href=\"https://colab.research.google.com/github/Faheemfemu/Python-For-Data-Science-Assignments/blob/main/Assignment_Introduction_to_Strings.ipynb\" target=\"_parent\"><img src=\"https://colab.research.google.com/assets/colab-badge.svg\" alt=\"Open In Colab\"/></a>"
      ]
    },
    {
      "cell_type": "markdown",
      "metadata": {
        "id": "uoGoqLiHFo3U"
      },
      "source": [
        "## <u>While doing this assignment only use those concepts which have been taught till now</u>"
      ]
    },
    {
      "cell_type": "markdown",
      "metadata": {
        "id": "LJJbprE6Fo3V"
      },
      "source": [
        "## <u>Problem 1</u>\n",
        "\n",
        "You are given a sentence which reads <b>\"Wikipedia is a free online encyclopedia, created and edited by volunteers around the world and hosted by the Wikimedia Foundation.\"</b>\n",
        "\n",
        "Find the number of words in the given sentence."
      ]
    },
    {
      "cell_type": "code",
      "metadata": {
        "id": "bNs1w7lDFo3W"
      },
      "source": [
        "# Store the given sentence in a variable\n",
        "sentence = \"Wikipedia is a free online encyclopedia, created and edited by volunteers around the world and hosted by the Wikimedia Foundation.\""
      ],
      "execution_count": null,
      "outputs": []
    },
    {
      "cell_type": "code",
      "metadata": {
        "id": "0pwUoE0VFo3b"
      },
      "source": [
        "# Calculate the total number of words in the sentence.  Hint : Use the count() method\n",
        "num_of_words = sentence.count(\" \") + 1"
      ],
      "execution_count": null,
      "outputs": []
    },
    {
      "cell_type": "code",
      "metadata": {
        "id": "Fb7lWgHY0g_X",
        "outputId": "a00e515c-507c-429f-b713-2d1662673ff0",
        "colab": {
          "base_uri": "https://localhost:8080/"
        }
      },
      "source": [
        "# Print the variable num_of_words\n",
        "num_of_words"
      ],
      "execution_count": null,
      "outputs": [
        {
          "output_type": "execute_result",
          "data": {
            "text/plain": [
              "20"
            ]
          },
          "metadata": {},
          "execution_count": 3
        }
      ]
    },
    {
      "cell_type": "markdown",
      "metadata": {
        "id": "KNwy8gqZFo3h"
      },
      "source": [
        "## <u>Problem 2 </u>\n",
        "\n",
        "Write a Python code which takes a number and returns a corresponding string of hyphens. For example if the number is 3, it will return '---' , if the number is 5 it will return '-----'"
      ]
    },
    {
      "cell_type": "code",
      "metadata": {
        "id": "pA80LvUtFo3i",
        "colab": {
          "base_uri": "https://localhost:8080/"
        },
        "outputId": "8f5ada6e-f9e4-4cf3-ff74-32165b990635"
      },
      "source": [
        "# Store the user input in a variable\n",
        "inputted_number = int(input())"
      ],
      "execution_count": null,
      "outputs": [
        {
          "name": "stdout",
          "output_type": "stream",
          "text": [
            "5\n"
          ]
        }
      ]
    },
    {
      "cell_type": "code",
      "metadata": {
        "id": "tX6VPyrQFo3m"
      },
      "source": [
        "# Create a string of equivalent number of hyphens. Hint : remember what happens when we multiply string by a number?\n",
        "string_of_hyphens =  (\"-\") * inputted_number"
      ],
      "execution_count": null,
      "outputs": []
    },
    {
      "cell_type": "code",
      "metadata": {
        "id": "AfJ1TmZVFo3s",
        "outputId": "1b15fc32-d49e-478f-ee4c-99bd7459e1a1",
        "colab": {
          "base_uri": "https://localhost:8080/"
        }
      },
      "source": [
        "# Print the string of hyphens\n",
        "print(string_of_hyphens) \n"
      ],
      "execution_count": null,
      "outputs": [
        {
          "output_type": "stream",
          "name": "stdout",
          "text": [
            "-----\n"
          ]
        }
      ]
    },
    {
      "cell_type": "markdown",
      "metadata": {
        "id": "hCG8HmhRFo3u"
      },
      "source": [
        "## <u> Problem 3 </u>\n",
        "\n",
        "A string can be called a safe bridge if it has no gaps in it i.e, no spaces. You are supposed to take an input from the user and print whether the string is a safe bridge or not."
      ]
    },
    {
      "cell_type": "code",
      "metadata": {
        "id": "QLoggGagFo3x",
        "outputId": "be862cdc-a2a4-413b-a49d-201e71d7d0d6",
        "colab": {
          "base_uri": "https://localhost:8080/"
        }
      },
      "source": [
        "# Store the user input in a variable\n",
        "bridge = input()"
      ],
      "execution_count": null,
      "outputs": [
        {
          "name": "stdout",
          "output_type": "stream",
          "text": [
            "femu khan\n"
          ]
        }
      ]
    },
    {
      "cell_type": "code",
      "metadata": {
        "id": "Zv5UgGr8Fo31"
      },
      "source": [
        "# Return True if the bridge is safe and False if the bridge is not safe. Hint : Use the find() method\n",
        "is_safe_bridge = bridge.find(' ') == -1"
      ],
      "execution_count": null,
      "outputs": []
    },
    {
      "cell_type": "code",
      "metadata": {
        "id": "TBCckeOXFo35",
        "outputId": "d17d2cbf-36c6-4868-8f90-4ac07df2e547",
        "colab": {
          "base_uri": "https://localhost:8080/"
        }
      },
      "source": [
        "# Fill in the blanks\n",
        "print(f\"It is {is_safe_bridge} that the bridge is a safe bridge\" )"
      ],
      "execution_count": null,
      "outputs": [
        {
          "output_type": "stream",
          "name": "stdout",
          "text": [
            "It is False that the bridge is a safe bridge\n"
          ]
        }
      ]
    },
    {
      "cell_type": "markdown",
      "metadata": {
        "id": "IO-p2ILHFo37"
      },
      "source": [
        "## <u>Problem 4</u>\n",
        "\n",
        "Count the number of D's in a string inputted by the user. This will be <b>case insensitive</b>."
      ]
    },
    {
      "cell_type": "code",
      "metadata": {
        "id": "CBqgtmkhFo38"
      },
      "source": [
        "# Store the user input in a variable\n",
        "user_string = 'Debris was scattered all over the yard in the densest region of Denmark'"
      ],
      "execution_count": null,
      "outputs": []
    },
    {
      "cell_type": "code",
      "metadata": {
        "id": "-nKePpRMFo3-"
      },
      "source": [
        "# Store the count of letter D in the inputted string. Note this will be a case insensitive search\n",
        "D_counts = user_string.upper( ).count('D')"
      ],
      "execution_count": null,
      "outputs": []
    },
    {
      "cell_type": "code",
      "metadata": {
        "id": "N9IXUH5AFo4A",
        "outputId": "803c004e-ec7a-4c4b-8c0e-ae0c16fe8460",
        "colab": {
          "base_uri": "https://localhost:8080/"
        }
      },
      "source": [
        "# Fill in the blanks\n",
        "print(f\"The total occurrence of D in the user_string is {D_counts}\")"
      ],
      "execution_count": null,
      "outputs": [
        {
          "output_type": "stream",
          "name": "stdout",
          "text": [
            "The total occurrence of D in the user_string is 5\n"
          ]
        }
      ]
    },
    {
      "cell_type": "markdown",
      "metadata": {
        "id": "e40-mPXjFo4D"
      },
      "source": [
        "## <u>Problem 5</u>\n",
        "\n",
        "Check whether a given string is a palindrome. A palindrome is a word, number, phrase, or other sequence of characters which reads the same backward as forward, such as madam, racecar."
      ]
    },
    {
      "cell_type": "code",
      "metadata": {
        "id": "qs0ZYZkzFo4D",
        "colab": {
          "base_uri": "https://localhost:8080/"
        },
        "outputId": "ecc1182d-266d-4b4c-f745-dda55f826332"
      },
      "source": [
        "# Store the user input in a variable\n",
        "user_string = input()"
      ],
      "execution_count": null,
      "outputs": [
        {
          "name": "stdout",
          "output_type": "stream",
          "text": [
            "repaper\n"
          ]
        }
      ]
    },
    {
      "cell_type": "code",
      "metadata": {
        "id": "OTVGL16NFo4G",
        "outputId": "17303463-053c-4145-b22d-7de3e89e267d",
        "colab": {
          "base_uri": "https://localhost:8080/"
        }
      },
      "source": [
        "# Print True if a string is a Palindrome else print false\n",
        "user_string[0:len(user_string)] == user_string[-1::-1]"
      ],
      "execution_count": null,
      "outputs": [
        {
          "output_type": "execute_result",
          "data": {
            "text/plain": [
              "True"
            ]
          },
          "metadata": {},
          "execution_count": 18
        }
      ]
    },
    {
      "cell_type": "code",
      "source": [],
      "metadata": {
        "id": "2IpodEaXvBLD"
      },
      "execution_count": null,
      "outputs": []
    }
  ]
}