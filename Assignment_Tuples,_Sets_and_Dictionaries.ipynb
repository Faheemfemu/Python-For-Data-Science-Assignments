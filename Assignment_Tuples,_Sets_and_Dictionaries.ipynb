{
  "nbformat": 4,
  "nbformat_minor": 0,
  "metadata": {
    "kernelspec": {
      "display_name": "Python 3",
      "language": "python",
      "name": "python3"
    },
    "language_info": {
      "codemirror_mode": {
        "name": "ipython",
        "version": 3
      },
      "file_extension": ".py",
      "mimetype": "text/x-python",
      "name": "python",
      "nbconvert_exporter": "python",
      "pygments_lexer": "ipython3",
      "version": "3.7.4"
    },
    "colab": {
      "provenance": [],
      "collapsed_sections": [],
      "include_colab_link": true
    }
  },
  "cells": [
    {
      "cell_type": "markdown",
      "metadata": {
        "id": "view-in-github",
        "colab_type": "text"
      },
      "source": [
        "<a href=\"https://colab.research.google.com/github/Faheemfemu/Python-For-Data-Science-Assignments/blob/main/Assignment_Tuples%2C_Sets_and_Dictionaries.ipynb\" target=\"_parent\"><img src=\"https://colab.research.google.com/assets/colab-badge.svg\" alt=\"Open In Colab\"/></a>"
      ]
    },
    {
      "cell_type": "markdown",
      "metadata": {
        "id": "8WbUJEVzs8Bx"
      },
      "source": [
        "## <u>While doing this assignment only use those concepts which have been taught till now</u>"
      ]
    },
    {
      "cell_type": "markdown",
      "metadata": {
        "id": "KjPWYK0Rs8By"
      },
      "source": [
        "## <u>Problem 1</u>\n",
        "\n",
        "### Another measure of average\n",
        "\n",
        "* Mode is defined as the value that appears most often in a set of data values. Mode corresponds to the most frequent value.\n",
        "* You are given a list of numbers and you need to calculate the mode of this list"
      ]
    },
    {
      "cell_type": "code",
      "metadata": {
        "id": "34TbaGurs8Bz"
      },
      "source": [
        "# A list containing average daily temperature over 10 days\n",
        "temperatures = [34, 40, 29, 33, 42, 40, 39, 34, 34,33 ]"
      ],
      "execution_count": null,
      "outputs": []
    },
    {
      "cell_type": "code",
      "metadata": {
        "id": "N1Yhpkiws8B3"
      },
      "source": [
        "# Step 1 : Find the unique set of values. Store this in a list\n",
        "unique_set = set(temperatures)\n",
        "unique_temperatures = list(unique_set) "
      ],
      "execution_count": null,
      "outputs": []
    },
    {
      "cell_type": "code",
      "metadata": {
        "id": "KpMdlB5Fs8B8",
        "outputId": "9d09b60d-5f29-43cb-b9f7-4edbe89ba6bf",
        "colab": {
          "base_uri": "https://localhost:8080/"
        }
      },
      "source": [
        "# Print the unique temperature list\n",
        "unique_temperatures"
      ],
      "execution_count": null,
      "outputs": [
        {
          "output_type": "execute_result",
          "data": {
            "text/plain": [
              "[33, 34, 39, 40, 42, 29]"
            ]
          },
          "metadata": {},
          "execution_count": 3
        }
      ]
    },
    {
      "cell_type": "code",
      "metadata": {
        "id": "J7CyJi_Ls8B_",
        "outputId": "a3c82f7f-3455-4cfc-8b9b-9894324186de",
        "colab": {
          "base_uri": "https://localhost:8080/"
        }
      },
      "source": [
        "# Step 2 : Create an empty dictionary which will contain the unique temperatures as keys and their counts in the original temperatures list as values\n",
        "temp_dict = {}\n",
        "\n",
        "# Set the values for each key separately\n",
        "# First key\n",
        "temp_dict['33'] = (2)\n",
        "\n",
        "\n",
        "# Second key\n",
        "temp_dict['34'] = (3)\n",
        "\n",
        "\n",
        "# Third key\n",
        "temp_dict['39']=(1) \n",
        "\n",
        "\n",
        "# Fourth key\n",
        "temp_dict['40']= (2)\n",
        "\n",
        "\n",
        "# Fifth key\n",
        "temp_dict['42']= (1)\n",
        "\n",
        "\n",
        "# Sixth key\n",
        "temp_dict['29'] = (1)\n",
        "temp_dict"
      ],
      "execution_count": null,
      "outputs": [
        {
          "output_type": "execute_result",
          "data": {
            "text/plain": [
              "{'33': 2, '34': 3, '39': 1, '40': 2, '42': 1, '29': 1}"
            ]
          },
          "metadata": {},
          "execution_count": 5
        }
      ]
    },
    {
      "cell_type": "code",
      "metadata": {
        "id": "4-ZxbmMxtWfQ",
        "outputId": "a16c5f75-38ca-45da-eee7-46a75dbcddbb",
        "colab": {
          "base_uri": "https://localhost:8080/"
        }
      },
      "source": [
        "# Step 3: Store the dictionary values in a list\n",
        "temp_dict_frequencies = list(temp_dict.values())\n",
        "\n",
        "# Print the list of dictionary values\n",
        "print(temp_dict_frequencies)\n",
        "# Find the index of the most frequent temperature value\n",
        "most_frequent_temp_index =temp_dict_frequencies.index(max(temp_dict_frequencies))\n",
        "\n",
        "# Print the index\n",
        "print(most_frequent_temp_index)"
      ],
      "execution_count": null,
      "outputs": [
        {
          "output_type": "stream",
          "name": "stdout",
          "text": [
            "[2, 3, 1, 2, 1, 1]\n",
            "1\n"
          ]
        }
      ]
    },
    {
      "cell_type": "code",
      "metadata": {
        "id": "riu9mZhcwBY6",
        "outputId": "11d7813b-ad85-49f2-c5ff-c8655204042a",
        "colab": {
          "base_uri": "https://localhost:8080/"
        }
      },
      "source": [
        "# Step 4 : Create the list of dictionary keys\n",
        "temp_dict_keys = list(temp_dict.keys())\n",
        "\n",
        "# Print the list of dictionary keys\n",
        "print(temp_dict_keys)\n",
        "\n",
        "# Calculate the mode temperature\n",
        "mode_temp = temp_dict_keys[most_frequent_temp_index]\n",
        "print(mode_temp)"
      ],
      "execution_count": null,
      "outputs": [
        {
          "output_type": "stream",
          "name": "stdout",
          "text": [
            "['33', '34', '39', '40', '42', '29']\n",
            "34\n"
          ]
        }
      ]
    },
    {
      "cell_type": "markdown",
      "metadata": {
        "id": "5qd8g8UUs8CM"
      },
      "source": [
        "## <u>Problem 2 </u>\n",
        "\n",
        "### Challenging the immutability of tuples\n",
        "\n",
        "You are given a list of tuples. You need to replace the last element of the last tuple"
      ]
    },
    {
      "cell_type": "code",
      "metadata": {
        "id": "FBJy9Sq_s8CN"
      },
      "source": [
        "# Input list of tuples\n",
        "\n",
        "list_of_tuples = [(10,20,30),(30,40,50),(50,60,70)]\n",
        "\n",
        "\n",
        "# Expected output : Replace the last element 70 with 100\n",
        "# output_list = [(10,20,30),(30,40,50),(50,60,100)]"
      ],
      "execution_count": null,
      "outputs": []
    },
    {
      "cell_type": "code",
      "source": [
        "# Your code here \n",
        "output_list =list_of_tuples[:-1]+[list_of_tuples[2][:-1]+(100,)] \n",
        "# Print the output list\n",
        "output_list"
      ],
      "metadata": {
        "id": "pdsFfXPi5GtT",
        "outputId": "92778914-243b-4d77-fa52-bfa1e2f05c06",
        "colab": {
          "base_uri": "https://localhost:8080/"
        }
      },
      "execution_count": null,
      "outputs": [
        {
          "output_type": "execute_result",
          "data": {
            "text/plain": [
              "[(10, 20, 30), (30, 40, 50), (50, 60, 100)]"
            ]
          },
          "metadata": {},
          "execution_count": 11
        }
      ]
    },
    {
      "cell_type": "code",
      "metadata": {
        "id": "UNtYax1as8CR",
        "outputId": "a04f2f19-635d-4654-d863-664491255874",
        "colab": {
          "base_uri": "https://localhost:8080/"
        }
      },
      "source": [
        "#2nd method\n",
        "# Your code here\n",
        "t1 = (10,20,30)\n",
        "t2 = (30,40,50)\n",
        "t3 = (50,60,70)\n",
        "l3=list(t3)\n",
        "\n",
        "l3[2]=100\n",
        "l3\n",
        "t3=tuple(l3)\n",
        "t3\n",
        "tup_4=tuple(zip(t1,t2,t3))\n",
        "tup_4\n",
        "output_list=list(tup_4)\n",
        "output_list\n",
        "\n",
        "# Print the output list\n",
        "output_list\n"
      ],
      "execution_count": null,
      "outputs": [
        {
          "output_type": "execute_result",
          "data": {
            "text/plain": [
              "[(10, 30, 50), (20, 40, 60), (30, 50, 100)]"
            ]
          },
          "metadata": {},
          "execution_count": 12
        }
      ]
    },
    {
      "cell_type": "markdown",
      "metadata": {
        "id": "ejRCi-vTs8CU"
      },
      "source": [
        "## <u> Problem 3 </u>\n",
        "\n",
        "Natural Language Processing or NLP is one of the most promising fields in Machine Learning. Most of the times in NLP we deal with the textual data (a bunch of strings). Sometimes when we are processing the text, it is a common practice to get rid of some set of stop words from our original text. By default stop words are very common words used in English language such as and, or, punctuations etc.\n",
        "\n",
        "In this exercise, you are provided with a default set of stop words and you need to add some extra set of custom words."
      ]
    },
    {
      "cell_type": "code",
      "metadata": {
        "id": "C5olNuDGs8CU",
        "outputId": "8f24de5f-4079-4133-9883-cfd4a5e3dab6",
        "colab": {
          "base_uri": "https://localhost:8080/"
        }
      },
      "source": [
        "# A sample sentence \n",
        "\n",
        "sentence = 'Hello, good morning folks! Today we will announce the half yearly performance results of the company. Due to the ongoing COVID-19 pandemic, our profits have declined by 60% as compared to the last half yearly results'\n",
        "\n",
        "# Print your sentence\n",
        "print(sentence)\n"
      ],
      "execution_count": null,
      "outputs": [
        {
          "output_type": "stream",
          "name": "stdout",
          "text": [
            "Hello, good morning folks! Today we will announce the half yearly performance results of the company. Due to the ongoing COVID-19 pandemic, our profits have declined by 60% as compared to the last half yearly results\n"
          ]
        }
      ]
    },
    {
      "cell_type": "code",
      "metadata": {
        "id": "B4afm8gCs8CY"
      },
      "source": [
        "# Default set of stop words \n",
        "stop_words = {\"i\", \"me\", \"my\", \"myself\", \"we\", \"our\", \"ours\", \"ourselves\", \"you\", \"your\", \"yours\", \"yourself\", \n",
        "              \"yourselves\", \"he\", \"him\", \"his\", \"himself\", \"she\", \"her\", \"hers\", \"herself\", \"it\", \"its\", \"itself\",\n",
        "              \"they\", \"them\", \"their\", \"theirs\", \"themselves\", \"what\", \"which\", \"who\", \"whom\", \"this\", \"that\",\n",
        "              \"these\", \"those\", \"am\", \"is\", \"are\", \"was\", \"were\", \"be\", \"been\", \"being\", \"have\", \"has\", \"had\",\n",
        "              \"having\", \"do\", \"does\", \"did\", \"doing\", \"a\", \"an\", \"the\", \"and\", \"but\", \"if\", \"or\", \"because\",\n",
        "              \"as\", \"until\", \"while\", \"of\", \"at\", \"by\", \"for\", \"with\", \"about\", \"against\", \"between\", \"into\",\n",
        "              \"through\", \"during\", \"before\", \"after\", \"above\", \"below\", \"to\", \"from\", \"up\", \"down\", \"in\", \"out\", \n",
        "              \"on\", \"off\", \"over\", \"under\", \"again\", \"further\", \"then\", \"once\", \"here\", \"there\", \"when\", \"where\",\n",
        "              \"why\", \"how\", \"all\", \"any\", \"both\", \"each\", \"few\", \"more\", \"most\", \"other\", \"some\", \"such\", \"no\",\n",
        "              \"nor\", \"not\", \"only\", \"own\", \"same\", \"so\", \"than\", \"too\", \"very\", \"s\", \"t\", \"can\", \"will\", \"just\",\n",
        "              \"don\", \"should\", \"now\"}\n"
      ],
      "execution_count": null,
      "outputs": []
    },
    {
      "cell_type": "code",
      "metadata": {
        "id": "evgHHnRks8Cc",
        "outputId": "6dd9aca6-3293-4ec5-8f7a-fca24fb3f41d",
        "colab": {
          "base_uri": "https://localhost:8080/"
        }
      },
      "source": [
        "# Update the set of stop words by adding the custom stop words\n",
        "custom_stop_words = [\"hello\",\"good\",\"morning\",\"half\",\"yearly\"]\n",
        "\n",
        "# Your code here\n",
        "stop_words.update(custom_stop_words)\n",
        "\n",
        "# Print the updated stop words\n",
        "print(stop_words)"
      ],
      "execution_count": null,
      "outputs": [
        {
          "output_type": "stream",
          "name": "stdout",
          "text": [
            "{'yours', 'above', 'theirs', 's', 'for', 't', 'am', 'had', 'now', 'our', 'and', 'being', 'herself', 'again', 'he', 'an', 'these', 'as', 'can', 'below', 'itself', 'be', 'most', 'own', 'because', 'both', 'a', 'his', 'which', 'to', 'been', 'himself', 'before', 'good', 'further', 'any', 'yourselves', 'into', 'few', 'him', 'only', 'you', 'they', 'whom', 'i', 'should', 'is', 'this', 'not', 'those', 'what', 'who', 'from', 'hers', 'why', 'after', 'just', 'are', 'with', 'at', 'other', 'up', 'such', 'me', 'all', 'about', 'she', 'same', 'that', 'under', 'will', 'yourself', 'no', 'was', 'nor', 'morning', 'during', 'until', 'we', 'too', 'does', 'then', 'so', 'over', 'on', 'out', 'but', 'between', 'do', 'or', 'has', 'while', 'down', 'its', 'against', 'have', 'it', 'through', 'some', 'off', 'more', 'your', 'their', 'here', 'were', 'the', 'if', 'having', 'than', 'hello', 'half', 'doing', 'themselves', 'each', 'of', 'when', 'where', 'once', 'yearly', 'her', 'did', 'my', 'myself', 'very', 'don', 'them', 'by', 'in', 'ours', 'there', 'how', 'ourselves'}\n"
          ]
        }
      ]
    },
    {
      "cell_type": "code",
      "metadata": {
        "id": "1QbZrotrtIE3",
        "outputId": "656235b5-db0d-4be3-a702-2319636113ab",
        "colab": {
          "base_uri": "https://localhost:8080/"
        }
      },
      "source": [
        "# Do the same task another way. Keep in mind to use the original set of stop_words for this piece of code\n",
        "my_set= set(custom_stop_words)\n",
        "updated_stop_word = stop_words.union(my_set)\n",
        "\n",
        "# Print the updated stop words\n",
        "print(updated_stop_word)"
      ],
      "execution_count": null,
      "outputs": [
        {
          "output_type": "stream",
          "name": "stdout",
          "text": [
            "{'yours', 'above', 'all', 'theirs', 's', 'about', 'for', 't', 'am', 'had', 'she', 'same', 'now', 'that', 'our', 'and', 'under', 'will', 'being', 'herself', 'yourself', 'no', 'was', 'nor', 'morning', 'again', 'during', 'until', 'we', 'he', 'too', 'an', 'does', 'these', 'as', 'then', 'so', 'can', 'below', 'over', 'itself', 'on', 'be', 'most', 'out', 'but', 'own', 'between', 'do', 'or', 'because', 'both', 'has', 'a', 'his', 'which', 'to', 'been', 'while', 'down', 'its', 'against', 'himself', 'before', 'good', 'further', 'any', 'yourselves', 'have', 'it', 'through', 'some', 'into', 'few', 'off', 'him', 'only', 'more', 'you', 'your', 'their', 'they', 'here', 'whom', 'were', 'i', 'should', 'is', 'the', 'if', 'having', 'this', 'than', 'hello', 'not', 'ourselves', 'half', 'doing', 'those', 'themselves', 'what', 'who', 'from', 'each', 'hers', 'why', 'after', 'just', 'of', 'are', 'when', 'where', 'with', 'at', 'other', 'once', 'yearly', 'her', 'did', 'my', 'myself', 'very', 'don', 'them', 'up', 'by', 'in', 'ours', 'there', 'such', 'how', 'me'}\n"
          ]
        }
      ]
    },
    {
      "cell_type": "markdown",
      "metadata": {
        "id": "P1rOYC8Is8Cf"
      },
      "source": [
        "## <u>Problem 4</u>\n",
        "\n",
        " Write a Python script to check whether a given key already exists in a dictionary. If it does, drop that key from the dictionary. If it does not, add that key and corresponding value to the dictionary"
      ]
    },
    {
      "cell_type": "code",
      "metadata": {
        "id": "ySeGyCtCs8Cg"
      },
      "source": [
        "# Your dictionary\n",
        "employee_dict = {'Name':'Sanket','Skills':['Python','Machine Learning','Deep Learning'],'Band':6.0,\n",
        "                 'Promotion Year':[2016,2018,2020]}"
      ],
      "execution_count": null,
      "outputs": []
    },
    {
      "cell_type": "code",
      "metadata": {
        "id": "MI7mOHaqs8Cj"
      },
      "source": [
        "# Check if the key 'Employee_ID' is present in the dictionary. Hint : use a boolean variable to store this value\n",
        "'Employee_ID' in employee_dict\n",
        "\n",
        "# If not present add this key to this dictionary and the corresponding value to be 4503233\n",
        "employee_dict['Employee_ID'] = 4503233"
      ],
      "execution_count": null,
      "outputs": []
    },
    {
      "cell_type": "code",
      "metadata": {
        "id": "ARPbZfY8s8Co"
      },
      "source": [
        "# Check if the key 'Band' is present in the dictionary.\n",
        "'Band' in employee_dict\n",
        "\n",
        "# If present, drop this key from the dictionary\n",
        "del employee_dict['Band']"
      ],
      "execution_count": null,
      "outputs": []
    },
    {
      "cell_type": "code",
      "metadata": {
        "id": "lUDbbyXmulzh",
        "outputId": "53caf745-aebe-45a5-882b-cf3e1ed6c70e",
        "colab": {
          "base_uri": "https://localhost:8080/"
        }
      },
      "source": [
        "# Print the updated dictionary\n",
        "employee_dict"
      ],
      "execution_count": null,
      "outputs": [
        {
          "output_type": "execute_result",
          "data": {
            "text/plain": [
              "{'Name': 'Sanket',\n",
              " 'Skills': ['Python', 'Machine Learning', 'Deep Learning'],\n",
              " 'Promotion Year': [2016, 2018, 2020],\n",
              " 'Employee_ID': 4503233}"
            ]
          },
          "metadata": {},
          "execution_count": 21
        }
      ]
    }
  ]
}